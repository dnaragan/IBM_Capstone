{
 "cells": [
  {
   "cell_type": "markdown",
   "metadata": {},
   "source": [
    "# Capstone Project: Battle of Neighborhoods\n",
    "# Applied Data Science Capstone by IBM/Coursera"
   ]
  },
  {
   "cell_type": "markdown",
   "metadata": {},
   "source": [
    "# Introduction: Business Problem\n",
    "\n",
    "In this project we will try to find a shortlist of nieghbourhooods in and around Dayton (Ohio, USA) that are preferrable for opening a Brewery.\n",
    "\n",
    "The idea is to find nieghborhoods around population centers, particularly ones with a large population above 18 years of age, and high income brackets, to ensure a large clientele. The brewery would fare even better well if there isn't too much competition from other breweries in the immediate vicinity.\n",
    "\n",
    "We will use data science powers to cluster and select a cluster with a few most promissing neighborhoods guided by the above criteria. Advantages of these neighbourhoods will then be expressed so that best possible final location can be chosen by stakeholders."
   ]
  },
  {
   "cell_type": "markdown",
   "metadata": {},
   "source": [
    "# Data\n",
    "\n",
    "Based on definition of our problem, factors that will influence our decission are:\n",
    "\n",
    "* number of people in the neighbourhoods\n",
    "* number of people in the negihbourhoods above a certain age (18 years)\n",
    "* markers of spending ability through per capita income and median housing value\n",
    "* venues in the neighborhood that increase the appeal of the neighborhoods and in turn the likelihood, of customers, to visit the brewery\n",
    "* number of and distance to bars/breweries in the neighborhood, if any\n",
    "\n",
    "For each city in the counties surrounding and containing the greater Dayton matropolitan area.\n",
    "\n",
    "Following data sources will be needed to extract/generate the required information:\n",
    "\n",
    "* the name of neighbourhood in the 4 counties surrounding Dayton (Montgomery, Miami, Clark, and Greene) will be obtianed from the pgeocode package in python (! pip install pgeocode)\n",
    "* the US census data will be accessed via its api for demographic information in these neighborhoods (https://api.census.gov/data/)\n",
    "* number of venues and their type and location in every neighborhood will be obtained using Foursquare API"
   ]
  },
  {
   "cell_type": "code",
   "execution_count": null,
   "metadata": {},
   "outputs": [],
   "source": []
  }
 ],
 "metadata": {
  "kernelspec": {
   "display_name": "Python 3",
   "language": "python",
   "name": "python3"
  },
  "language_info": {
   "codemirror_mode": {
    "name": "ipython",
    "version": 3
   },
   "file_extension": ".py",
   "mimetype": "text/x-python",
   "name": "python",
   "nbconvert_exporter": "python",
   "pygments_lexer": "ipython3",
   "version": "3.8.1"
  }
 },
 "nbformat": 4,
 "nbformat_minor": 4
}
